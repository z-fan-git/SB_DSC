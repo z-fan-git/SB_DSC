{
 "cells": [
  {
   "cell_type": "markdown",
   "metadata": {},
   "source": [
    "This exercise will require you to pull some data from https://data.nasdaq.com/ (formerly Quandl API)."
   ]
  },
  {
   "cell_type": "markdown",
   "metadata": {},
   "source": [
    "As a first step, you will need to register a free account on the https://data.nasdaq.com/ website."
   ]
  },
  {
   "cell_type": "markdown",
   "metadata": {},
   "source": [
    "After you register, you will be provided with a unique API key, that you should store:\n",
    "\n",
    "*Note*: Use a `.env` file and put your key in there and `python-dotenv` to access it in this notebook. \n",
    "\n",
    "The code below uses a key that was used when generating this project but has since been deleted. Never submit your keys to source control. There is a `.env-example` file in this repository to illusrtate what you need. Copy that to a file called `.env` and use your own api key in that `.env` file. Make sure you also have a `.gitignore` file with a line for `.env` added to it. \n",
    "\n",
    "The standard Python gitignore is [here](https://github.com/github/gitignore/blob/master/Python.gitignore) you can just copy that. "
   ]
  },
  {
   "cell_type": "code",
   "execution_count": null,
   "metadata": {},
   "outputs": [],
   "source": [
    "# get api key from your .env file\n",
    "import os\n",
    "from dotenv import load_dotenv\n",
    "\n",
    "load_dotenv()\n",
    "API_KEY = os.getenv('NASDAQ_API_KEY')\n",
    "\n",
    "print(API_KEY)"
   ]
  },
  {
   "cell_type": "markdown",
   "metadata": {},
   "source": [
    "Nasdaq Data has a large number of data sources, but, unfortunately, most of them require a Premium subscription. Still, there are also a good number of free datasets."
   ]
  },
  {
   "cell_type": "markdown",
   "metadata": {},
   "source": [
    "For this mini project, we will focus on equities data from the Frankfurt Stock Exhange (FSE), which is available for free. We'll try and analyze the stock prices of a company called Carl Zeiss Meditec, which manufactures tools for eye examinations, as well as medical lasers for laser eye surgery: https://www.zeiss.com/meditec/int/home.html. The company is listed under the stock ticker AFX_X."
   ]
  },
  {
   "cell_type": "markdown",
   "metadata": {},
   "source": [
    "You can find the detailed Nasdaq Data API instructions here: https://docs.data.nasdaq.com/docs/in-depth-usage"
   ]
  },
  {
   "cell_type": "markdown",
   "metadata": {},
   "source": [
    "While there is a dedicated Python package for connecting to the Nasdaq API, we would prefer that you use the *requests* package, which can be easily downloaded using *pip* or *conda*. You can find the documentation for the package here: http://docs.python-requests.org/en/master/ "
   ]
  },
  {
   "cell_type": "markdown",
   "metadata": {},
   "source": [
    "Finally, apart from the *requests* package, you are encouraged to not use any third party Python packages, such as *pandas*, and instead focus on what's available in the Python Standard Library (the *collections* module might come in handy: https://pymotw.com/3/collections/).\n",
    "Also, since you won't have access to DataFrames, you are encouraged to us Python's native data structures - preferably dictionaries, though some questions can also be answered using lists.\n",
    "You can read more on these data structures here: https://docs.python.org/3/tutorial/datastructures.html"
   ]
  },
  {
   "cell_type": "markdown",
   "metadata": {},
   "source": [
    "Keep in mind that the JSON responses you will be getting from the API map almost one-to-one to Python's dictionaries. Unfortunately, they can be very nested, so make sure you read up on indexing dictionaries in the documentation provided above."
   ]
  },
  {
   "cell_type": "code",
   "execution_count": 196,
   "metadata": {},
   "outputs": [],
   "source": [
    "# First, import the relevant modules\n",
    "import requests"
   ]
  },
  {
   "cell_type": "markdown",
   "metadata": {},
   "source": [
    "Note: API's can change a bit with each version, for this exercise it is reccomended to use the nasdaq api at `https://data.nasdaq.com/api/v3/`. This is the same api as what used to be quandl so `https://www.quandl.com/api/v3/` should work too.\n",
    "\n",
    "Hint: We are looking for the `AFX_X` data on the `datasets/FSE/` dataset."
   ]
  },
  {
   "cell_type": "code",
   "execution_count": 197,
   "metadata": {
    "scrolled": false
   },
   "outputs": [
    {
     "name": "stdout",
     "output_type": "stream",
     "text": [
      "Response OK\n",
      "200\n",
      "{'dataset': {'id': 10095370, 'dataset_code': 'AFX_X', 'database_code': 'FSE', 'name': 'Carl Zeiss Meditec (AFX_X)', 'description': 'Stock Prices for Carl Zeiss Meditec (2020-11-02) from the Frankfurt Stock Exchange.<br><br>Trading System: Xetra<br><br>ISIN: DE0005313704', 'refreshed_at': '2020-12-01T14:48:09.907Z', 'newest_available_date': '2020-12-01', 'oldest_available_date': '2000-06-07', 'column_names': ['Date', 'Open', 'High', 'Low', 'Close', 'Change', 'Traded Volume', 'Turnover', 'Last Price of the Day', 'Daily Traded Units', 'Daily Turnover'], 'frequency': 'daily', 'type': 'Time Series', 'premium': False, 'limit': 1, 'transform': None, 'column_index': None, 'start_date': '2000-06-07', 'end_date': '2020-12-01', 'data': [['2020-12-01', 112.2, 112.2, 111.5, 112.0, None, 51.0, 5703.0, None, None, None]], 'collapse': 'daily', 'order': None, 'database_id': 6129}}\n"
     ]
    }
   ],
   "source": [
    "# Now, call the Nasdaq API and pull out a small sample of the data (only one day) to get a glimpse\n",
    "# into the JSON structure that will be returned\n",
    "\n",
    "url = 'https://data.nasdaq.com/api/v3/datasets/FSE/AFX_X'\n",
    "\n",
    "parameters=dict(collapse='daily', limit=1)\n",
    "\n",
    "res = requests.get(url,params=parameters)\n",
    "\n",
    "if res:\n",
    "    print('Response OK')\n",
    "else:\n",
    "    print('Response Failed')\n",
    "print(res.status_code)\n",
    "\n",
    "AFX_X = res.json()\n",
    "print(AFX_X)"
   ]
  },
  {
   "cell_type": "code",
   "execution_count": 198,
   "metadata": {},
   "outputs": [
    {
     "name": "stdout",
     "output_type": "stream",
     "text": [
      "dict_keys(['dataset'])\n",
      "dict_keys(['id', 'dataset_code', 'database_code', 'name', 'description', 'refreshed_at', 'newest_available_date', 'oldest_available_date', 'column_names', 'frequency', 'type', 'premium', 'limit', 'transform', 'column_index', 'start_date', 'end_date', 'data', 'collapse', 'order', 'database_id'])\n",
      "['Date', 'Open', 'High', 'Low', 'Close', 'Change', 'Traded Volume', 'Turnover', 'Last Price of the Day', 'Daily Traded Units', 'Daily Turnover']\n",
      "[['2020-12-01', 112.2, 112.2, 111.5, 112.0, None, 51.0, 5703.0, None, None, None]]\n",
      "The newest available date for AFX_X is: 2020-12-01\n",
      "The oldest available date for AFX_X is: 2000-06-07\n",
      "We have 7482 days price data of AFX_X\n"
     ]
    }
   ],
   "source": [
    "# Inspect the JSON structure of the object you created, and take note of how nested it is,\n",
    "# as well as the overall structure\n",
    "print(AFX_X.keys())\n",
    "print(AFX_X['dataset'].keys())\n",
    "print(AFX_X['dataset']['column_names'])\n",
    "print(AFX_X['dataset']['data'])\n",
    "\n",
    "# Length of the data\n",
    "print('The newest available date for AFX_X is: ' + AFX_X['dataset']['newest_available_date'])\n",
    "print('The oldest available date for AFX_X is: ' + AFX_X['dataset']['oldest_available_date'])\n",
    "\n",
    "from datetime import datetime\n",
    "newest_available_date = datetime.strptime(AFX_X['dataset']['newest_available_date'], '%Y-%m-%d')\n",
    "oldest_available_date = datetime.strptime(AFX_X['dataset']['oldest_available_date'], '%Y-%m-%d')\n",
    "data_in_days = newest_available_date - oldest_available_date\n",
    "\n",
    "print('We have ' + str(data_in_days.days) + ' days price data of AFX_X')"
   ]
  },
  {
   "cell_type": "markdown",
   "metadata": {},
   "source": [
    "These are your tasks for this mini project:\n",
    "\n",
    "1. Collect data from the Franfurt Stock Exchange, for the ticker AFX_X, for the whole year 2017 (keep in mind that the date format is YYYY-MM-DD).\n",
    "2. Convert the returned JSON object into a Python dictionary.\n",
    "3. Calculate what the highest and lowest opening prices were for the stock in this period.\n",
    "4. What was the largest change in any one day (based on High and Low price)?\n",
    "5. What was the largest change between any two days (based on Closing Price)?\n",
    "6. What was the average daily trading volume during this year?\n",
    "7. (Optional) What was the median trading volume during this year. (Note: you may need to implement your own function for calculating the median.)"
   ]
  },
  {
   "cell_type": "code",
   "execution_count": 199,
   "metadata": {},
   "outputs": [
    {
     "name": "stdout",
     "output_type": "stream",
     "text": [
      "Response OK\n"
     ]
    }
   ],
   "source": [
    "# 1. Collect data from the Franfurt Stock Exchange, for the ticker AFX_X, \n",
    "# for the whole year 2017 (keep in mind that the date format is YYYY-MM-DD).\n",
    "\n",
    "url = 'https://data.nasdaq.com/api/v3/datasets/FSE/AFX_X'\n",
    "parameters=dict(collapse='daily', start_date='2017-01-01',end_date='2017-12-31')\n",
    "res = requests.get(url,params=parameters)\n",
    "\n",
    "# test if a request responded successfully\n",
    "print('Response OK') if res else print('Response Failed')"
   ]
  },
  {
   "cell_type": "code",
   "execution_count": 200,
   "metadata": {},
   "outputs": [
    {
     "name": "stdout",
     "output_type": "stream",
     "text": [
      "<class 'dict'>\n"
     ]
    }
   ],
   "source": [
    "# 2. Convert the returned JSON object into a Python dictionary.\n",
    "AFX_X = res.json()\n",
    "print(type(AFX_X))"
   ]
  },
  {
   "cell_type": "code",
   "execution_count": 201,
   "metadata": {},
   "outputs": [
    {
     "name": "stdout",
     "output_type": "stream",
     "text": [
      "the highest opening prices was 53.11 for the stock in 2007\n",
      "the lowest opening prices was 34.0 for the stock in 2007\n"
     ]
    }
   ],
   "source": [
    "# 3. Calculate what the highest and lowest opening prices were for the stock\n",
    "#    in this period.\n",
    "open_price=[]\n",
    "data = AFX_X['dataset']['data']\n",
    "for i in range(len(data)):\n",
    "#   Remove 'None' from the list\n",
    "    if str(data[i][1]) != 'None':\n",
    "        open_price.append(data[i][1])\n",
    "print('the highest opening prices was ' + str(max(open_price)) + ' for the stock in 2007')\n",
    "print('the lowest opening prices was ' + str(min(open_price)) + ' for the stock in 2007')"
   ]
  },
  {
   "cell_type": "code",
   "execution_count": 202,
   "metadata": {},
   "outputs": [
    {
     "name": "stdout",
     "output_type": "stream",
     "text": [
      "the largest price change in any one day was 2.81 for the stock in 2007\n"
     ]
    }
   ],
   "source": [
    "# 4. What was the largest change in any one day (based on High and Low price)?\n",
    "change_price=[]\n",
    "for i in range(len(data)):\n",
    "#   change_price is set to be 0 if either the high or the low is recorded as 'None'\n",
    "    if (str(data[i][2]) == 'None') or (str(data[i][3]) == 'None'):\n",
    "        change_price.append(0)\n",
    "    else:\n",
    "        change_price.append(data[i][2]-data[i][3])    \n",
    "\n",
    "print('the largest price change in any one day was ' + \"{:.2f}\".format(max(change_price)) + ' for the stock in 2007')"
   ]
  },
  {
   "cell_type": "code",
   "execution_count": 203,
   "metadata": {},
   "outputs": [
    {
     "name": "stdout",
     "output_type": "stream",
     "text": [
      "the largest price change between any two days was 2.56 for the stock in 2007\n"
     ]
    }
   ],
   "source": [
    "# 5.What was the largest change between any two days (based on Closing Price)?\n",
    "chang_within_two_days = []\n",
    "for i in range(len(data)):\n",
    "#   closing price is used to calculate the change between any two days\n",
    "    if i == 0:\n",
    "        chang_within_two_days.append(0)\n",
    "    else:\n",
    "        chang_within_two_days.append(data[i][4]-data[i-1][4])    \n",
    "\n",
    "print('the largest price change between any two days was ' + \"{:.2f}\".format(max(chang_within_two_days)) + ' for the stock in 2007')"
   ]
  },
  {
   "cell_type": "code",
   "execution_count": 204,
   "metadata": {},
   "outputs": [
    {
     "name": "stdout",
     "output_type": "stream",
     "text": [
      "the average daily trading volume was 89124.3 for the stock in 2007\n"
     ]
    }
   ],
   "source": [
    "# 6. What was the average daily trading volume during this year?\n",
    "trading_volume = []\n",
    "for i in range(len(data)):\n",
    "#   closing price is used to calculate the change between any two days\n",
    "   trading_volume.append(data[i][6])\n",
    "    \n",
    "print('the average daily trading volume was ' + \"{:.1f}\".format(sum(trading_volume)/len(trading_volume)) + ' for the stock in 2007')"
   ]
  },
  {
   "cell_type": "code",
   "execution_count": 205,
   "metadata": {},
   "outputs": [
    {
     "name": "stdout",
     "output_type": "stream",
     "text": [
      "the median trading volume was 76286.0 for the stock in 2007\n"
     ]
    }
   ],
   "source": [
    "# 7. (Optional) What was the median trading volume during this year. \n",
    "# (Note: you may need to implement your own function for calculating \n",
    "# the median.)\n",
    "def median(lst):\n",
    "    n = len(lst)\n",
    "    s = sorted(lst)\n",
    "    return (s[n//2-1]/2.0+s[n//2]/2.0, s[n//2])[n % 2] if n else None\n",
    "\n",
    "trading_volume\n",
    "print('the median trading volume was ' + \"{:.1f}\".format(median(trading_volume)) + ' for the stock in 2007')\n"
   ]
  }
 ],
 "metadata": {
  "interpreter": {
   "hash": "7635eb1b9d0fe97add78a7368b6b431c09bb8ad5c42e437d64abdd99821c31ae"
  },
  "kernelspec": {
   "display_name": "Python 3 (ipykernel)",
   "language": "python",
   "name": "python3"
  },
  "language_info": {
   "codemirror_mode": {
    "name": "ipython",
    "version": 3
   },
   "file_extension": ".py",
   "mimetype": "text/x-python",
   "name": "python",
   "nbconvert_exporter": "python",
   "pygments_lexer": "ipython3",
   "version": "3.9.12"
  }
 },
 "nbformat": 4,
 "nbformat_minor": 4
}
